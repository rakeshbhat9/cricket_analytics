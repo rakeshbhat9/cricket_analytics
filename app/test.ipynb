{
 "metadata": {
  "language_info": {
   "codemirror_mode": {
    "name": "ipython",
    "version": 3
   },
   "file_extension": ".py",
   "mimetype": "text/x-python",
   "name": "python",
   "nbconvert_exporter": "python",
   "pygments_lexer": "ipython3",
   "version": "3.8.5-final"
  },
  "orig_nbformat": 2,
  "kernelspec": {
   "name": "python3",
   "display_name": "Python 3",
   "language": "python"
  }
 },
 "nbformat": 4,
 "nbformat_minor": 2,
 "cells": [
  {
   "cell_type": "code",
   "execution_count": 4,
   "metadata": {},
   "outputs": [],
   "source": [
    "import logging\n",
    "import sqlite3\n",
    "\n",
    "import pandas as pd"
   ]
  },
  {
   "cell_type": "code",
   "execution_count": 5,
   "metadata": {},
   "outputs": [],
   "source": [
    "conn = sqlite3.connect('/home/rakeshbhat9/repos/databases/cricinfo_raw.db')\n",
    "data = pd.read_sql(\"SELECT * FROM raw\",conn)"
   ]
  },
  {
   "cell_type": "code",
   "execution_count": 6,
   "metadata": {},
   "outputs": [
    {
     "output_type": "execute_result",
     "data": {
      "text/plain": [
       "                publishedTime  over                       shortComm  \\\n",
       "0   2021-01-24 11:57:39+00:00   113  L Embuldeniya to Leach, no run   \n",
       "1   2021-01-24 11:57:20+00:00   113  L Embuldeniya to Leach, no run   \n",
       "2   2021-01-24 11:56:57+00:00   113  L Embuldeniya to Leach, no run   \n",
       "3   2021-01-24 11:56:38+00:00   113  L Embuldeniya to Leach, no run   \n",
       "4   2021-01-24 11:56:00+00:00   113    L Embuldeniya to Root, 1 run   \n",
       "5   2021-01-24 11:55:28+00:00   113   L Embuldeniya to Root, no run   \n",
       "6   2021-01-24 11:54:17+00:00   112         Perera to Leach, no run   \n",
       "7   2021-01-24 11:53:46+00:00   112         Perera to Leach, no run   \n",
       "8   2021-01-24 11:53:20+00:00   112         Perera to Leach, no run   \n",
       "9   2021-01-24 11:52:32+00:00   112           Perera to Root, 1 run   \n",
       "10  2021-01-24 11:52:09+00:00   112          Perera to Root, no run   \n",
       "11  2021-01-24 11:51:44+00:00   112          Perera to Root, no run   \n",
       "12  2021-01-24 11:50:33+00:00   111  L Embuldeniya to Leach, no run   \n",
       "13  2021-01-24 11:50:14+00:00   111  L Embuldeniya to Leach, no run   \n",
       "14  2021-01-24 11:49:57+00:00   111  L Embuldeniya to Leach, no run   \n",
       "15  2021-01-24 11:49:37+00:00   111  L Embuldeniya to Leach, no run   \n",
       "16  2021-01-24 11:47:51+00:00   111      L Embuldeniya to Wood, OUT   \n",
       "17  2021-01-24 11:46:51+00:00   111    L Embuldeniya to Root, 1 run   \n",
       "\n",
       "                                             longComm  ball         bowler  \\\n",
       "0   full, spins in and bounces to strike him on th...     6  L Embuldeniya   \n",
       "1    speared outside off, squeezed through the covers     5  L Embuldeniya   \n",
       "2        full and spinning into middle, defended back     4  L Embuldeniya   \n",
       "3   short and slides in on middle, blocked to the ...     3  L Embuldeniya   \n",
       "4              fired on off, shovelled to wide mid-on     2  L Embuldeniya   \n",
       "5                              fired on off, defended     1  L Embuldeniya   \n",
       "6         tossed on middle, played back to the bowler     6         Perera   \n",
       "7   flatter on middle and leg, played back to the ...     5         Perera   \n",
       "8              fired on middle, poked to the off side     4         Perera   \n",
       "9           down the track and driven down to long-on     3         Perera   \n",
       "10           flatter and on off, prodded to short leg     2         Perera   \n",
       "11  tossed outside off, driven strongly to the lef...     1         Perera   \n",
       "12                                     dabbed to slip     6  L Embuldeniya   \n",
       "13                    defensively worked to short leg     5  L Embuldeniya   \n",
       "14       short, spins in and bounces to hit the thigh     4  L Embuldeniya   \n",
       "15               pushed through on off, defended back     3  L Embuldeniya   \n",
       "16  Thirimanne leaps to his left and grabs it. Pus...     2  L Embuldeniya   \n",
       "17  dragged short and outside off, punched to swee...     1  L Embuldeniya   \n",
       "\n",
       "   batsman runScored  \n",
       "0    Leach        0   \n",
       "1    Leach        0   \n",
       "2    Leach        0   \n",
       "3    Leach        0   \n",
       "4     Root        1   \n",
       "5     Root        0   \n",
       "6    Leach        0   \n",
       "7    Leach        0   \n",
       "8    Leach        0   \n",
       "9     Root        1   \n",
       "10    Root        0   \n",
       "11    Root        0   \n",
       "12   Leach        0   \n",
       "13   Leach        0   \n",
       "14   Leach        0   \n",
       "15   Leach        0   \n",
       "16    Wood       OUT  \n",
       "17    Root        1   "
      ],
      "text/html": "<div>\n<style scoped>\n    .dataframe tbody tr th:only-of-type {\n        vertical-align: middle;\n    }\n\n    .dataframe tbody tr th {\n        vertical-align: top;\n    }\n\n    .dataframe thead th {\n        text-align: right;\n    }\n</style>\n<table border=\"1\" class=\"dataframe\">\n  <thead>\n    <tr style=\"text-align: right;\">\n      <th></th>\n      <th>publishedTime</th>\n      <th>over</th>\n      <th>shortComm</th>\n      <th>longComm</th>\n      <th>ball</th>\n      <th>bowler</th>\n      <th>batsman</th>\n      <th>runScored</th>\n    </tr>\n  </thead>\n  <tbody>\n    <tr>\n      <th>0</th>\n      <td>2021-01-24 11:57:39+00:00</td>\n      <td>113</td>\n      <td>L Embuldeniya to Leach, no run</td>\n      <td>full, spins in and bounces to strike him on th...</td>\n      <td>6</td>\n      <td>L Embuldeniya</td>\n      <td>Leach</td>\n      <td>0</td>\n    </tr>\n    <tr>\n      <th>1</th>\n      <td>2021-01-24 11:57:20+00:00</td>\n      <td>113</td>\n      <td>L Embuldeniya to Leach, no run</td>\n      <td>speared outside off, squeezed through the covers</td>\n      <td>5</td>\n      <td>L Embuldeniya</td>\n      <td>Leach</td>\n      <td>0</td>\n    </tr>\n    <tr>\n      <th>2</th>\n      <td>2021-01-24 11:56:57+00:00</td>\n      <td>113</td>\n      <td>L Embuldeniya to Leach, no run</td>\n      <td>full and spinning into middle, defended back</td>\n      <td>4</td>\n      <td>L Embuldeniya</td>\n      <td>Leach</td>\n      <td>0</td>\n    </tr>\n    <tr>\n      <th>3</th>\n      <td>2021-01-24 11:56:38+00:00</td>\n      <td>113</td>\n      <td>L Embuldeniya to Leach, no run</td>\n      <td>short and slides in on middle, blocked to the ...</td>\n      <td>3</td>\n      <td>L Embuldeniya</td>\n      <td>Leach</td>\n      <td>0</td>\n    </tr>\n    <tr>\n      <th>4</th>\n      <td>2021-01-24 11:56:00+00:00</td>\n      <td>113</td>\n      <td>L Embuldeniya to Root, 1 run</td>\n      <td>fired on off, shovelled to wide mid-on</td>\n      <td>2</td>\n      <td>L Embuldeniya</td>\n      <td>Root</td>\n      <td>1</td>\n    </tr>\n    <tr>\n      <th>5</th>\n      <td>2021-01-24 11:55:28+00:00</td>\n      <td>113</td>\n      <td>L Embuldeniya to Root, no run</td>\n      <td>fired on off, defended</td>\n      <td>1</td>\n      <td>L Embuldeniya</td>\n      <td>Root</td>\n      <td>0</td>\n    </tr>\n    <tr>\n      <th>6</th>\n      <td>2021-01-24 11:54:17+00:00</td>\n      <td>112</td>\n      <td>Perera to Leach, no run</td>\n      <td>tossed on middle, played back to the bowler</td>\n      <td>6</td>\n      <td>Perera</td>\n      <td>Leach</td>\n      <td>0</td>\n    </tr>\n    <tr>\n      <th>7</th>\n      <td>2021-01-24 11:53:46+00:00</td>\n      <td>112</td>\n      <td>Perera to Leach, no run</td>\n      <td>flatter on middle and leg, played back to the ...</td>\n      <td>5</td>\n      <td>Perera</td>\n      <td>Leach</td>\n      <td>0</td>\n    </tr>\n    <tr>\n      <th>8</th>\n      <td>2021-01-24 11:53:20+00:00</td>\n      <td>112</td>\n      <td>Perera to Leach, no run</td>\n      <td>fired on middle, poked to the off side</td>\n      <td>4</td>\n      <td>Perera</td>\n      <td>Leach</td>\n      <td>0</td>\n    </tr>\n    <tr>\n      <th>9</th>\n      <td>2021-01-24 11:52:32+00:00</td>\n      <td>112</td>\n      <td>Perera to Root, 1 run</td>\n      <td>down the track and driven down to long-on</td>\n      <td>3</td>\n      <td>Perera</td>\n      <td>Root</td>\n      <td>1</td>\n    </tr>\n    <tr>\n      <th>10</th>\n      <td>2021-01-24 11:52:09+00:00</td>\n      <td>112</td>\n      <td>Perera to Root, no run</td>\n      <td>flatter and on off, prodded to short leg</td>\n      <td>2</td>\n      <td>Perera</td>\n      <td>Root</td>\n      <td>0</td>\n    </tr>\n    <tr>\n      <th>11</th>\n      <td>2021-01-24 11:51:44+00:00</td>\n      <td>112</td>\n      <td>Perera to Root, no run</td>\n      <td>tossed outside off, driven strongly to the lef...</td>\n      <td>1</td>\n      <td>Perera</td>\n      <td>Root</td>\n      <td>0</td>\n    </tr>\n    <tr>\n      <th>12</th>\n      <td>2021-01-24 11:50:33+00:00</td>\n      <td>111</td>\n      <td>L Embuldeniya to Leach, no run</td>\n      <td>dabbed to slip</td>\n      <td>6</td>\n      <td>L Embuldeniya</td>\n      <td>Leach</td>\n      <td>0</td>\n    </tr>\n    <tr>\n      <th>13</th>\n      <td>2021-01-24 11:50:14+00:00</td>\n      <td>111</td>\n      <td>L Embuldeniya to Leach, no run</td>\n      <td>defensively worked to short leg</td>\n      <td>5</td>\n      <td>L Embuldeniya</td>\n      <td>Leach</td>\n      <td>0</td>\n    </tr>\n    <tr>\n      <th>14</th>\n      <td>2021-01-24 11:49:57+00:00</td>\n      <td>111</td>\n      <td>L Embuldeniya to Leach, no run</td>\n      <td>short, spins in and bounces to hit the thigh</td>\n      <td>4</td>\n      <td>L Embuldeniya</td>\n      <td>Leach</td>\n      <td>0</td>\n    </tr>\n    <tr>\n      <th>15</th>\n      <td>2021-01-24 11:49:37+00:00</td>\n      <td>111</td>\n      <td>L Embuldeniya to Leach, no run</td>\n      <td>pushed through on off, defended back</td>\n      <td>3</td>\n      <td>L Embuldeniya</td>\n      <td>Leach</td>\n      <td>0</td>\n    </tr>\n    <tr>\n      <th>16</th>\n      <td>2021-01-24 11:47:51+00:00</td>\n      <td>111</td>\n      <td>L Embuldeniya to Wood, OUT</td>\n      <td>Thirimanne leaps to his left and grabs it. Pus...</td>\n      <td>2</td>\n      <td>L Embuldeniya</td>\n      <td>Wood</td>\n      <td>OUT</td>\n    </tr>\n    <tr>\n      <th>17</th>\n      <td>2021-01-24 11:46:51+00:00</td>\n      <td>111</td>\n      <td>L Embuldeniya to Root, 1 run</td>\n      <td>dragged short and outside off, punched to swee...</td>\n      <td>1</td>\n      <td>L Embuldeniya</td>\n      <td>Root</td>\n      <td>1</td>\n    </tr>\n  </tbody>\n</table>\n</div>"
     },
     "metadata": {},
     "execution_count": 6
    }
   ],
   "source": [
    "data"
   ]
  },
  {
   "cell_type": "code",
   "execution_count": null,
   "metadata": {},
   "outputs": [],
   "source": []
  },
  {
   "cell_type": "code",
   "execution_count": 8,
   "metadata": {},
   "outputs": [],
   "source": [
    "bat = data[data['batsman']=='Leach'].copy()"
   ]
  },
  {
   "cell_type": "code",
   "execution_count": 9,
   "metadata": {},
   "outputs": [
    {
     "output_type": "execute_result",
     "data": {
      "text/plain": [
       "                publishedTime  over                       shortComm  \\\n",
       "0   2021-01-24 11:57:39+00:00   113  L Embuldeniya to Leach, no run   \n",
       "1   2021-01-24 11:57:20+00:00   113  L Embuldeniya to Leach, no run   \n",
       "2   2021-01-24 11:56:57+00:00   113  L Embuldeniya to Leach, no run   \n",
       "3   2021-01-24 11:56:38+00:00   113  L Embuldeniya to Leach, no run   \n",
       "6   2021-01-24 11:54:17+00:00   112         Perera to Leach, no run   \n",
       "7   2021-01-24 11:53:46+00:00   112         Perera to Leach, no run   \n",
       "8   2021-01-24 11:53:20+00:00   112         Perera to Leach, no run   \n",
       "12  2021-01-24 11:50:33+00:00   111  L Embuldeniya to Leach, no run   \n",
       "13  2021-01-24 11:50:14+00:00   111  L Embuldeniya to Leach, no run   \n",
       "14  2021-01-24 11:49:57+00:00   111  L Embuldeniya to Leach, no run   \n",
       "15  2021-01-24 11:49:37+00:00   111  L Embuldeniya to Leach, no run   \n",
       "\n",
       "                                             longComm  ball         bowler  \\\n",
       "0   full, spins in and bounces to strike him on th...     6  L Embuldeniya   \n",
       "1    speared outside off, squeezed through the covers     5  L Embuldeniya   \n",
       "2        full and spinning into middle, defended back     4  L Embuldeniya   \n",
       "3   short and slides in on middle, blocked to the ...     3  L Embuldeniya   \n",
       "6         tossed on middle, played back to the bowler     6         Perera   \n",
       "7   flatter on middle and leg, played back to the ...     5         Perera   \n",
       "8              fired on middle, poked to the off side     4         Perera   \n",
       "12                                     dabbed to slip     6  L Embuldeniya   \n",
       "13                    defensively worked to short leg     5  L Embuldeniya   \n",
       "14       short, spins in and bounces to hit the thigh     4  L Embuldeniya   \n",
       "15               pushed through on off, defended back     3  L Embuldeniya   \n",
       "\n",
       "   batsman runScored  \n",
       "0    Leach        0   \n",
       "1    Leach        0   \n",
       "2    Leach        0   \n",
       "3    Leach        0   \n",
       "6    Leach        0   \n",
       "7    Leach        0   \n",
       "8    Leach        0   \n",
       "12   Leach        0   \n",
       "13   Leach        0   \n",
       "14   Leach        0   \n",
       "15   Leach        0   "
      ],
      "text/html": "<div>\n<style scoped>\n    .dataframe tbody tr th:only-of-type {\n        vertical-align: middle;\n    }\n\n    .dataframe tbody tr th {\n        vertical-align: top;\n    }\n\n    .dataframe thead th {\n        text-align: right;\n    }\n</style>\n<table border=\"1\" class=\"dataframe\">\n  <thead>\n    <tr style=\"text-align: right;\">\n      <th></th>\n      <th>publishedTime</th>\n      <th>over</th>\n      <th>shortComm</th>\n      <th>longComm</th>\n      <th>ball</th>\n      <th>bowler</th>\n      <th>batsman</th>\n      <th>runScored</th>\n    </tr>\n  </thead>\n  <tbody>\n    <tr>\n      <th>0</th>\n      <td>2021-01-24 11:57:39+00:00</td>\n      <td>113</td>\n      <td>L Embuldeniya to Leach, no run</td>\n      <td>full, spins in and bounces to strike him on th...</td>\n      <td>6</td>\n      <td>L Embuldeniya</td>\n      <td>Leach</td>\n      <td>0</td>\n    </tr>\n    <tr>\n      <th>1</th>\n      <td>2021-01-24 11:57:20+00:00</td>\n      <td>113</td>\n      <td>L Embuldeniya to Leach, no run</td>\n      <td>speared outside off, squeezed through the covers</td>\n      <td>5</td>\n      <td>L Embuldeniya</td>\n      <td>Leach</td>\n      <td>0</td>\n    </tr>\n    <tr>\n      <th>2</th>\n      <td>2021-01-24 11:56:57+00:00</td>\n      <td>113</td>\n      <td>L Embuldeniya to Leach, no run</td>\n      <td>full and spinning into middle, defended back</td>\n      <td>4</td>\n      <td>L Embuldeniya</td>\n      <td>Leach</td>\n      <td>0</td>\n    </tr>\n    <tr>\n      <th>3</th>\n      <td>2021-01-24 11:56:38+00:00</td>\n      <td>113</td>\n      <td>L Embuldeniya to Leach, no run</td>\n      <td>short and slides in on middle, blocked to the ...</td>\n      <td>3</td>\n      <td>L Embuldeniya</td>\n      <td>Leach</td>\n      <td>0</td>\n    </tr>\n    <tr>\n      <th>6</th>\n      <td>2021-01-24 11:54:17+00:00</td>\n      <td>112</td>\n      <td>Perera to Leach, no run</td>\n      <td>tossed on middle, played back to the bowler</td>\n      <td>6</td>\n      <td>Perera</td>\n      <td>Leach</td>\n      <td>0</td>\n    </tr>\n    <tr>\n      <th>7</th>\n      <td>2021-01-24 11:53:46+00:00</td>\n      <td>112</td>\n      <td>Perera to Leach, no run</td>\n      <td>flatter on middle and leg, played back to the ...</td>\n      <td>5</td>\n      <td>Perera</td>\n      <td>Leach</td>\n      <td>0</td>\n    </tr>\n    <tr>\n      <th>8</th>\n      <td>2021-01-24 11:53:20+00:00</td>\n      <td>112</td>\n      <td>Perera to Leach, no run</td>\n      <td>fired on middle, poked to the off side</td>\n      <td>4</td>\n      <td>Perera</td>\n      <td>Leach</td>\n      <td>0</td>\n    </tr>\n    <tr>\n      <th>12</th>\n      <td>2021-01-24 11:50:33+00:00</td>\n      <td>111</td>\n      <td>L Embuldeniya to Leach, no run</td>\n      <td>dabbed to slip</td>\n      <td>6</td>\n      <td>L Embuldeniya</td>\n      <td>Leach</td>\n      <td>0</td>\n    </tr>\n    <tr>\n      <th>13</th>\n      <td>2021-01-24 11:50:14+00:00</td>\n      <td>111</td>\n      <td>L Embuldeniya to Leach, no run</td>\n      <td>defensively worked to short leg</td>\n      <td>5</td>\n      <td>L Embuldeniya</td>\n      <td>Leach</td>\n      <td>0</td>\n    </tr>\n    <tr>\n      <th>14</th>\n      <td>2021-01-24 11:49:57+00:00</td>\n      <td>111</td>\n      <td>L Embuldeniya to Leach, no run</td>\n      <td>short, spins in and bounces to hit the thigh</td>\n      <td>4</td>\n      <td>L Embuldeniya</td>\n      <td>Leach</td>\n      <td>0</td>\n    </tr>\n    <tr>\n      <th>15</th>\n      <td>2021-01-24 11:49:37+00:00</td>\n      <td>111</td>\n      <td>L Embuldeniya to Leach, no run</td>\n      <td>pushed through on off, defended back</td>\n      <td>3</td>\n      <td>L Embuldeniya</td>\n      <td>Leach</td>\n      <td>0</td>\n    </tr>\n  </tbody>\n</table>\n</div>"
     },
     "metadata": {},
     "execution_count": 9
    }
   ],
   "source": [
    "bat"
   ]
  },
  {
   "cell_type": "code",
   "execution_count": 12,
   "metadata": {},
   "outputs": [],
   "source": [
    "bat['runScored']  = bat['runScored'].astype('int')"
   ]
  },
  {
   "cell_type": "code",
   "execution_count": 13,
   "metadata": {},
   "outputs": [
    {
     "output_type": "execute_result",
     "data": {
      "text/plain": [
       "               runScored  ball\n",
       "bowler                        \n",
       "L Embuldeniya          0     8\n",
       "Perera                 0     3"
      ],
      "text/html": "<div>\n<style scoped>\n    .dataframe tbody tr th:only-of-type {\n        vertical-align: middle;\n    }\n\n    .dataframe tbody tr th {\n        vertical-align: top;\n    }\n\n    .dataframe thead th {\n        text-align: right;\n    }\n</style>\n<table border=\"1\" class=\"dataframe\">\n  <thead>\n    <tr style=\"text-align: right;\">\n      <th></th>\n      <th>runScored</th>\n      <th>ball</th>\n    </tr>\n    <tr>\n      <th>bowler</th>\n      <th></th>\n      <th></th>\n    </tr>\n  </thead>\n  <tbody>\n    <tr>\n      <th>L Embuldeniya</th>\n      <td>0</td>\n      <td>8</td>\n    </tr>\n    <tr>\n      <th>Perera</th>\n      <td>0</td>\n      <td>3</td>\n    </tr>\n  </tbody>\n</table>\n</div>"
     },
     "metadata": {},
     "execution_count": 13
    }
   ],
   "source": [
    "bat.groupby(['bowler']).agg({'runScored':'sum','ball':'count'})"
   ]
  },
  {
   "cell_type": "code",
   "execution_count": null,
   "metadata": {},
   "outputs": [],
   "source": []
  }
 ]
}